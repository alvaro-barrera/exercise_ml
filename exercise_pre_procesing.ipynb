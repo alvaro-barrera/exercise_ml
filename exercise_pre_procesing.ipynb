{
  "nbformat": 4,
  "nbformat_minor": 0,
  "metadata": {
    "colab": {
      "name": "exercise_pre_procesing.ipynb",
      "provenance": [],
      "authorship_tag": "ABX9TyONsyLTae2QfhxmmlSLdp7n",
      "include_colab_link": true
    },
    "kernelspec": {
      "name": "python3",
      "display_name": "Python 3"
    },
    "language_info": {
      "name": "python"
    }
  },
  "cells": [
    {
      "cell_type": "markdown",
      "metadata": {
        "id": "view-in-github",
        "colab_type": "text"
      },
      "source": [
        "<a href=\"https://colab.research.google.com/github/whitehatdevelop/exercise_ml/blob/master/exercise_pre_procesing.ipynb\" target=\"_parent\"><img src=\"https://colab.research.google.com/assets/colab-badge.svg\" alt=\"Open In Colab\"/></a>"
      ]
    },
    {
      "cell_type": "code",
      "metadata": {
        "colab": {
          "base_uri": "https://localhost:8080/"
        },
        "id": "GoDPQpXSI11-",
        "outputId": "cb9b2669-f0f9-4dc2-f13e-f642cff0e31c"
      },
      "source": [
        "#CONEXIÓN A DRIVE\n",
        "from google.colab import drive\n",
        "drive.mount('/content/drive')"
      ],
      "execution_count": 52,
      "outputs": [
        {
          "output_type": "stream",
          "text": [
            "Drive already mounted at /content/drive; to attempt to forcibly remount, call drive.mount(\"/content/drive\", force_remount=True).\n"
          ],
          "name": "stdout"
        }
      ]
    },
    {
      "cell_type": "code",
      "metadata": {
        "colab": {
          "base_uri": "https://localhost:8080/"
        },
        "id": "VQK4Ur6cI_Ax",
        "outputId": "7afcc557-6be1-4b44-c3e5-f3112dde105a"
      },
      "source": [
        "#INGRESANDO A CARPETA CONTENEDORA DE ARCHIVOS EN DRIVE \"ml_database\"\n",
        "%cd '/content/drive/My Drive/Colab Notebooks/ml_database'"
      ],
      "execution_count": 53,
      "outputs": [
        {
          "output_type": "stream",
          "text": [
            "/content/drive/My Drive/Colab Notebooks/ml_database\n"
          ],
          "name": "stdout"
        }
      ]
    },
    {
      "cell_type": "code",
      "metadata": {
        "id": "6x0AwHiwJsvl"
      },
      "source": [
        "#IMPORTACIÓN DE LIBRERÍAS\n",
        "import pandas as pd #IMPORTACIÓN DE LIBRERIA - PANDAS\n",
        "import numpy as np\n",
        "\n",
        "import seaborn as sn #IMPORTACIÓN DE LIBRERIA - SEABORN\n",
        "import matplotlib.pyplot as plt #IMPORTACIÓN DE LIBRERIA - MATPLOT\n",
        "\n",
        "%matplotlib inline"
      ],
      "execution_count": 54,
      "outputs": []
    },
    {
      "cell_type": "code",
      "metadata": {
        "id": "XlN2qE68JzIb"
      },
      "source": [
        "#CARGA DE ARCHIVO .CSV \n",
        "dataset = pd.read_csv('Dataset_AfiliacionDebitoAutom.csv',\n",
        "                      sep=',', #DEFINIENDO SEPARADOR ',' PROPIO DE .CSV\n",
        "                      encoding='utf-8', #CODIFICACIÓN UTF-8\n",
        "                      na_values=' ')"
      ],
      "execution_count": 55,
      "outputs": []
    },
    {
      "cell_type": "code",
      "metadata": {
        "colab": {
          "base_uri": "https://localhost:8080/"
        },
        "id": "UEWg5TyhKAZO",
        "outputId": "acc23412-3d30-4417-e6c1-9d90c58220c3"
      },
      "source": [
        "#VISUALIZACIÓN DE ENCABEZADOS DE LAS COLUMNAS DEL DATAFRAME COMO UNA LISTA\n",
        "dataset.columns.values.tolist()"
      ],
      "execution_count": 56,
      "outputs": [
        {
          "output_type": "execute_result",
          "data": {
            "text/plain": [
              "['N_ACTIVE_LINES',\n",
              " 'N_SUSPENDED_LINES',\n",
              " 'DEBT_CAPACITY',\n",
              " 'AGE',\n",
              " 'INCOME',\n",
              " 'OLDEST_LINE_MONTHS',\n",
              " 'SAME_BILLING_3M',\n",
              " 'DIGITAL_BILL',\n",
              " 'MB_3G_USE',\n",
              " 'MB_4G_USE',\n",
              " 'VOICE_IN_3M',\n",
              " 'VOICE_OUT_3M',\n",
              " 'SUBSCRIPTION_FLAG']"
            ]
          },
          "metadata": {
            "tags": []
          },
          "execution_count": 56
        }
      ]
    },
    {
      "cell_type": "code",
      "metadata": {
        "colab": {
          "base_uri": "https://localhost:8080/",
          "height": 224
        },
        "id": "kVmQ9aS1Kctj",
        "outputId": "eeae4aa2-19b2-4863-ec6f-93250e6cc227"
      },
      "source": [
        "#VISUALIZACIÓN DE LOS 5 PRIMEROS DATOS DEL DATAFRAME\n",
        "dataset.head(5)  "
      ],
      "execution_count": 57,
      "outputs": [
        {
          "output_type": "execute_result",
          "data": {
            "text/html": [
              "<div>\n",
              "<style scoped>\n",
              "    .dataframe tbody tr th:only-of-type {\n",
              "        vertical-align: middle;\n",
              "    }\n",
              "\n",
              "    .dataframe tbody tr th {\n",
              "        vertical-align: top;\n",
              "    }\n",
              "\n",
              "    .dataframe thead th {\n",
              "        text-align: right;\n",
              "    }\n",
              "</style>\n",
              "<table border=\"1\" class=\"dataframe\">\n",
              "  <thead>\n",
              "    <tr style=\"text-align: right;\">\n",
              "      <th></th>\n",
              "      <th>N_ACTIVE_LINES</th>\n",
              "      <th>N_SUSPENDED_LINES</th>\n",
              "      <th>DEBT_CAPACITY</th>\n",
              "      <th>AGE</th>\n",
              "      <th>INCOME</th>\n",
              "      <th>OLDEST_LINE_MONTHS</th>\n",
              "      <th>SAME_BILLING_3M</th>\n",
              "      <th>DIGITAL_BILL</th>\n",
              "      <th>MB_3G_USE</th>\n",
              "      <th>MB_4G_USE</th>\n",
              "      <th>VOICE_IN_3M</th>\n",
              "      <th>VOICE_OUT_3M</th>\n",
              "      <th>SUBSCRIPTION_FLAG</th>\n",
              "    </tr>\n",
              "  </thead>\n",
              "  <tbody>\n",
              "    <tr>\n",
              "      <th>0</th>\n",
              "      <td>2</td>\n",
              "      <td>0</td>\n",
              "      <td>570</td>\n",
              "      <td>NaN</td>\n",
              "      <td>173.699997</td>\n",
              "      <td>27</td>\n",
              "      <td>1</td>\n",
              "      <td>1</td>\n",
              "      <td>0.0</td>\n",
              "      <td>0.0</td>\n",
              "      <td>0.7999</td>\n",
              "      <td>0.7999</td>\n",
              "      <td>0.0</td>\n",
              "    </tr>\n",
              "    <tr>\n",
              "      <th>1</th>\n",
              "      <td>1</td>\n",
              "      <td>0</td>\n",
              "      <td>80</td>\n",
              "      <td>39.0</td>\n",
              "      <td>79.000056</td>\n",
              "      <td>12</td>\n",
              "      <td>0</td>\n",
              "      <td>1</td>\n",
              "      <td>0.0</td>\n",
              "      <td>0.0</td>\n",
              "      <td>0.0000</td>\n",
              "      <td>0.0000</td>\n",
              "      <td>0.0</td>\n",
              "    </tr>\n",
              "    <tr>\n",
              "      <th>2</th>\n",
              "      <td>1</td>\n",
              "      <td>0</td>\n",
              "      <td>120</td>\n",
              "      <td>NaN</td>\n",
              "      <td>29.900001</td>\n",
              "      <td>5</td>\n",
              "      <td>1</td>\n",
              "      <td>1</td>\n",
              "      <td>4.9</td>\n",
              "      <td>2077.8</td>\n",
              "      <td>60.5667</td>\n",
              "      <td>81.6664</td>\n",
              "      <td>0.0</td>\n",
              "    </tr>\n",
              "    <tr>\n",
              "      <th>3</th>\n",
              "      <td>0</td>\n",
              "      <td>1</td>\n",
              "      <td>0</td>\n",
              "      <td>34.0</td>\n",
              "      <td>62.900000</td>\n",
              "      <td>14</td>\n",
              "      <td>1</td>\n",
              "      <td>1</td>\n",
              "      <td>9.8</td>\n",
              "      <td>17.9</td>\n",
              "      <td>101.5669</td>\n",
              "      <td>418.7003</td>\n",
              "      <td>1.0</td>\n",
              "    </tr>\n",
              "    <tr>\n",
              "      <th>4</th>\n",
              "      <td>1</td>\n",
              "      <td>0</td>\n",
              "      <td>186</td>\n",
              "      <td>NaN</td>\n",
              "      <td>65.899460</td>\n",
              "      <td>39</td>\n",
              "      <td>0</td>\n",
              "      <td>1</td>\n",
              "      <td>50.3</td>\n",
              "      <td>9547.0</td>\n",
              "      <td>260.8001</td>\n",
              "      <td>917.3007</td>\n",
              "      <td>1.0</td>\n",
              "    </tr>\n",
              "  </tbody>\n",
              "</table>\n",
              "</div>"
            ],
            "text/plain": [
              "   N_ACTIVE_LINES  N_SUSPENDED_LINES  ...  VOICE_OUT_3M  SUBSCRIPTION_FLAG\n",
              "0               2                  0  ...        0.7999                0.0\n",
              "1               1                  0  ...        0.0000                0.0\n",
              "2               1                  0  ...       81.6664                0.0\n",
              "3               0                  1  ...      418.7003                1.0\n",
              "4               1                  0  ...      917.3007                1.0\n",
              "\n",
              "[5 rows x 13 columns]"
            ]
          },
          "metadata": {
            "tags": []
          },
          "execution_count": 57
        }
      ]
    },
    {
      "cell_type": "markdown",
      "metadata": {
        "id": "eX0XC3qtWBB5"
      },
      "source": [
        "# VISUALIZACIÓN DE DATOS ESTADÍSTICOS\n",
        "Variable objetivo: \"SUBSCRIPTION_FLAG\"\n",
        "\n",
        "## Descripción de los atributos del dataset\n",
        "\n",
        "- N_ACTIVE_LINES = Número de líneas móviles activas del cliente.\n",
        "- N_SUSPENDED_LINES = Número de líneas móviles suspendidas del cliente (sin servicio).\n",
        "- DEBT_CAPACITY = Estimación de la cantidad de dinero que la persona puede pedir prestado de un banco.\n",
        "- AGE = Edad del cliente.\n",
        "- INCOME = Ingresos\n",
        "- OLDEST_LINE_MONTHS = Número de meses que la línea más antigua del cliente ha permanecido en la compañía.\n",
        "- SAME_BILLING_3M = 1 si el cliente facturó el mismo monto con la compañía, por los últimos 3 meses.\n",
        "- DIGITAL_BILL = 1 si el cliente se ha suscrito al servicio de facturación digital (la factura se envía por correo electrónico en lugar de usar métodos tradicionales).\n",
        "- MB_3G_USE = Cantidad de MB usados en 3G.\n",
        "- MB_4G_USE = Cantidad de MB usados en 4G.\n",
        "- VOICE_IN_3M =Cantidad de minutos en llamadas de voz realizadas \"hacia adentro\" (desde una operadora externa hacia nuestra operadora).\n",
        "VOICE_OUT_3M = Cantidad de minutos en llamadas de voz realizadas \"hacia afuera\" (desde nuestra operadora hacia otra operadora).\n",
        "SUBSCRIPTION_FLAG = 1 indica que el cliente se ha afiliado al débito automático para su facturación."
      ]
    },
    {
      "cell_type": "code",
      "metadata": {
        "colab": {
          "base_uri": "https://localhost:8080/",
          "height": 317
        },
        "id": "KrVL6V9GKlE0",
        "outputId": "44a8500d-8c1a-472d-ebca-4b1fe22606d3"
      },
      "source": [
        "#VISUALIZACIÓN DE DATOS ESTADÍSTICOS DEL DATAFRAME\n",
        "dataset.describe()"
      ],
      "execution_count": 58,
      "outputs": [
        {
          "output_type": "execute_result",
          "data": {
            "text/html": [
              "<div>\n",
              "<style scoped>\n",
              "    .dataframe tbody tr th:only-of-type {\n",
              "        vertical-align: middle;\n",
              "    }\n",
              "\n",
              "    .dataframe tbody tr th {\n",
              "        vertical-align: top;\n",
              "    }\n",
              "\n",
              "    .dataframe thead th {\n",
              "        text-align: right;\n",
              "    }\n",
              "</style>\n",
              "<table border=\"1\" class=\"dataframe\">\n",
              "  <thead>\n",
              "    <tr style=\"text-align: right;\">\n",
              "      <th></th>\n",
              "      <th>N_ACTIVE_LINES</th>\n",
              "      <th>N_SUSPENDED_LINES</th>\n",
              "      <th>DEBT_CAPACITY</th>\n",
              "      <th>AGE</th>\n",
              "      <th>INCOME</th>\n",
              "      <th>OLDEST_LINE_MONTHS</th>\n",
              "      <th>SAME_BILLING_3M</th>\n",
              "      <th>DIGITAL_BILL</th>\n",
              "      <th>MB_3G_USE</th>\n",
              "      <th>MB_4G_USE</th>\n",
              "      <th>VOICE_IN_3M</th>\n",
              "      <th>VOICE_OUT_3M</th>\n",
              "      <th>SUBSCRIPTION_FLAG</th>\n",
              "    </tr>\n",
              "  </thead>\n",
              "  <tbody>\n",
              "    <tr>\n",
              "      <th>count</th>\n",
              "      <td>101.000000</td>\n",
              "      <td>101.000000</td>\n",
              "      <td>101.000000</td>\n",
              "      <td>95.000000</td>\n",
              "      <td>101.000000</td>\n",
              "      <td>101.000000</td>\n",
              "      <td>101.000000</td>\n",
              "      <td>101.000000</td>\n",
              "      <td>101.000000</td>\n",
              "      <td>101.000000</td>\n",
              "      <td>99.000000</td>\n",
              "      <td>101.000000</td>\n",
              "      <td>100.000000</td>\n",
              "    </tr>\n",
              "    <tr>\n",
              "      <th>mean</th>\n",
              "      <td>1.059406</td>\n",
              "      <td>0.138614</td>\n",
              "      <td>172.861386</td>\n",
              "      <td>36.463158</td>\n",
              "      <td>68.047274</td>\n",
              "      <td>17.237624</td>\n",
              "      <td>0.633663</td>\n",
              "      <td>0.801980</td>\n",
              "      <td>731.056436</td>\n",
              "      <td>7166.463366</td>\n",
              "      <td>252.033448</td>\n",
              "      <td>620.201870</td>\n",
              "      <td>0.600000</td>\n",
              "    </tr>\n",
              "    <tr>\n",
              "      <th>std</th>\n",
              "      <td>0.580031</td>\n",
              "      <td>0.374959</td>\n",
              "      <td>126.132948</td>\n",
              "      <td>9.120716</td>\n",
              "      <td>43.298222</td>\n",
              "      <td>15.643624</td>\n",
              "      <td>0.484206</td>\n",
              "      <td>0.400495</td>\n",
              "      <td>1781.948329</td>\n",
              "      <td>10819.287102</td>\n",
              "      <td>476.432244</td>\n",
              "      <td>724.473191</td>\n",
              "      <td>0.492366</td>\n",
              "    </tr>\n",
              "    <tr>\n",
              "      <th>min</th>\n",
              "      <td>0.000000</td>\n",
              "      <td>0.000000</td>\n",
              "      <td>0.000000</td>\n",
              "      <td>24.000000</td>\n",
              "      <td>18.978000</td>\n",
              "      <td>2.000000</td>\n",
              "      <td>0.000000</td>\n",
              "      <td>0.000000</td>\n",
              "      <td>0.000000</td>\n",
              "      <td>0.000000</td>\n",
              "      <td>0.000000</td>\n",
              "      <td>0.000000</td>\n",
              "      <td>0.000000</td>\n",
              "    </tr>\n",
              "    <tr>\n",
              "      <th>25%</th>\n",
              "      <td>1.000000</td>\n",
              "      <td>0.000000</td>\n",
              "      <td>90.000000</td>\n",
              "      <td>28.000000</td>\n",
              "      <td>41.900002</td>\n",
              "      <td>6.000000</td>\n",
              "      <td>0.000000</td>\n",
              "      <td>1.000000</td>\n",
              "      <td>21.100000</td>\n",
              "      <td>377.200000</td>\n",
              "      <td>48.491850</td>\n",
              "      <td>154.900000</td>\n",
              "      <td>0.000000</td>\n",
              "    </tr>\n",
              "    <tr>\n",
              "      <th>50%</th>\n",
              "      <td>1.000000</td>\n",
              "      <td>0.000000</td>\n",
              "      <td>160.000000</td>\n",
              "      <td>35.000000</td>\n",
              "      <td>62.900000</td>\n",
              "      <td>11.000000</td>\n",
              "      <td>1.000000</td>\n",
              "      <td>1.000000</td>\n",
              "      <td>167.800000</td>\n",
              "      <td>3389.500000</td>\n",
              "      <td>121.950200</td>\n",
              "      <td>418.700300</td>\n",
              "      <td>1.000000</td>\n",
              "    </tr>\n",
              "    <tr>\n",
              "      <th>75%</th>\n",
              "      <td>1.000000</td>\n",
              "      <td>0.000000</td>\n",
              "      <td>220.000000</td>\n",
              "      <td>43.000000</td>\n",
              "      <td>79.000056</td>\n",
              "      <td>26.000000</td>\n",
              "      <td>1.000000</td>\n",
              "      <td>1.000000</td>\n",
              "      <td>604.600000</td>\n",
              "      <td>9061.300000</td>\n",
              "      <td>306.091850</td>\n",
              "      <td>871.984500</td>\n",
              "      <td>1.000000</td>\n",
              "    </tr>\n",
              "    <tr>\n",
              "      <th>max</th>\n",
              "      <td>3.000000</td>\n",
              "      <td>2.000000</td>\n",
              "      <td>570.000000</td>\n",
              "      <td>57.000000</td>\n",
              "      <td>309.599459</td>\n",
              "      <td>80.000000</td>\n",
              "      <td>1.000000</td>\n",
              "      <td>1.000000</td>\n",
              "      <td>14734.000000</td>\n",
              "      <td>56071.000000</td>\n",
              "      <td>4296.182900</td>\n",
              "      <td>5014.400300</td>\n",
              "      <td>1.000000</td>\n",
              "    </tr>\n",
              "  </tbody>\n",
              "</table>\n",
              "</div>"
            ],
            "text/plain": [
              "       N_ACTIVE_LINES  N_SUSPENDED_LINES  ...  VOICE_OUT_3M  SUBSCRIPTION_FLAG\n",
              "count      101.000000         101.000000  ...    101.000000         100.000000\n",
              "mean         1.059406           0.138614  ...    620.201870           0.600000\n",
              "std          0.580031           0.374959  ...    724.473191           0.492366\n",
              "min          0.000000           0.000000  ...      0.000000           0.000000\n",
              "25%          1.000000           0.000000  ...    154.900000           0.000000\n",
              "50%          1.000000           0.000000  ...    418.700300           1.000000\n",
              "75%          1.000000           0.000000  ...    871.984500           1.000000\n",
              "max          3.000000           2.000000  ...   5014.400300           1.000000\n",
              "\n",
              "[8 rows x 13 columns]"
            ]
          },
          "metadata": {
            "tags": []
          },
          "execution_count": 58
        }
      ]
    },
    {
      "cell_type": "markdown",
      "metadata": {
        "id": "-9GYcX-gdoYO"
      },
      "source": [
        "Verficamos la cantidad de datos null por columna."
      ]
    },
    {
      "cell_type": "code",
      "metadata": {
        "colab": {
          "base_uri": "https://localhost:8080/"
        },
        "id": "kHUlLvRCLgx7",
        "outputId": "7cbbca3f-419a-46fd-cf10-a75229489a32"
      },
      "source": [
        "dataset.isnull().sum(axis=0)"
      ],
      "execution_count": 59,
      "outputs": [
        {
          "output_type": "execute_result",
          "data": {
            "text/plain": [
              "N_ACTIVE_LINES        0\n",
              "N_SUSPENDED_LINES     0\n",
              "DEBT_CAPACITY         0\n",
              "AGE                   6\n",
              "INCOME                0\n",
              "OLDEST_LINE_MONTHS    0\n",
              "SAME_BILLING_3M       0\n",
              "DIGITAL_BILL          0\n",
              "MB_3G_USE             0\n",
              "MB_4G_USE             0\n",
              "VOICE_IN_3M           2\n",
              "VOICE_OUT_3M          0\n",
              "SUBSCRIPTION_FLAG     1\n",
              "dtype: int64"
            ]
          },
          "metadata": {
            "tags": []
          },
          "execution_count": 59
        }
      ]
    },
    {
      "cell_type": "code",
      "metadata": {
        "id": "0H9F0PoALnX9"
      },
      "source": [
        "#INSERTANDO MEDIANA EN VALORES NULLABLES\n",
        "dataset = dataset.fillna({'AGE':dataset['AGE'].median()}) #REEMPLAZANDO DENTRO DE COLUMNA 'AGE'\n",
        "dataset = dataset.fillna({'VOICE_IN_3M':dataset['VOICE_IN_3M'].median()}) #REEMPLAZANDO DENTRO DE COLUMNA 'VOICE_IN_3M'\n",
        "dataset = dataset.fillna({'SUBSCRIPTION_FLAG':dataset['SUBSCRIPTION_FLAG'].median()}) #REEMPLAZANDO DENTRO DE COLUMNA 'SUBSCRIPTION_FLAG'"
      ],
      "execution_count": 60,
      "outputs": []
    },
    {
      "cell_type": "code",
      "metadata": {
        "colab": {
          "base_uri": "https://localhost:8080/"
        },
        "id": "8uYYM8OTMQOq",
        "outputId": "22ab7308-4faf-4355-8787-a1377541a651"
      },
      "source": [
        "#VERIFICANDO QUE EL NÚMERO DE DATOS NULLABLES POR COLUMNA AHORA SEAN 0\n",
        "dataset.isnull().sum(axis=0)"
      ],
      "execution_count": 61,
      "outputs": [
        {
          "output_type": "execute_result",
          "data": {
            "text/plain": [
              "N_ACTIVE_LINES        0\n",
              "N_SUSPENDED_LINES     0\n",
              "DEBT_CAPACITY         0\n",
              "AGE                   0\n",
              "INCOME                0\n",
              "OLDEST_LINE_MONTHS    0\n",
              "SAME_BILLING_3M       0\n",
              "DIGITAL_BILL          0\n",
              "MB_3G_USE             0\n",
              "MB_4G_USE             0\n",
              "VOICE_IN_3M           0\n",
              "VOICE_OUT_3M          0\n",
              "SUBSCRIPTION_FLAG     0\n",
              "dtype: int64"
            ]
          },
          "metadata": {
            "tags": []
          },
          "execution_count": 61
        }
      ]
    },
    {
      "cell_type": "code",
      "metadata": {
        "colab": {
          "base_uri": "https://localhost:8080/"
        },
        "id": "wXSSyiCCfV0t",
        "outputId": "5286e9d7-39e1-410f-a975-e5c85d0fd43f"
      },
      "source": [
        "dataset.SUBSCRIPTION_FLAG.value_counts() #VISUALIZANDO CANTIDAD DENTRO DE SUBSCRIPTION_FLAG AGRUPADAS POR LOS VALORES PERTENECIENTES A LA COLUMNA"
      ],
      "execution_count": 64,
      "outputs": [
        {
          "output_type": "execute_result",
          "data": {
            "text/plain": [
              "1.0    61\n",
              "0.0    40\n",
              "Name: SUBSCRIPTION_FLAG, dtype: int64"
            ]
          },
          "metadata": {
            "tags": []
          },
          "execution_count": 64
        }
      ]
    },
    {
      "cell_type": "markdown",
      "metadata": {
        "id": "lWIlpG6LUned"
      },
      "source": [
        "# BALANCEO DE DATOS\n"
      ]
    },
    {
      "cell_type": "code",
      "metadata": {
        "colab": {
          "base_uri": "https://localhost:8080/"
        },
        "id": "gfQ0tW61itB-",
        "outputId": "afa67f4d-db5e-4da4-845a-ec86e3500de1"
      },
      "source": [
        "target_count = dataset.SUBSCRIPTION_FLAG.value_counts() #CONTEO DE SUBSCRIPTION_FLAG 0 | 1\n",
        "count_unaffiliate = target_count[0] #CANTIDAD DE \"NO AFILIADOS\"\n",
        "count_affiliate = target_count[1] #CANTIDAD DE \"NO AFILIADOS\"\n",
        "\n",
        "count_affiliate,count_unaffiliate #VISUALIZANDO CANTIDADES"
      ],
      "execution_count": 65,
      "outputs": [
        {
          "output_type": "execute_result",
          "data": {
            "text/plain": [
              "(61, 40)"
            ]
          },
          "metadata": {
            "tags": []
          },
          "execution_count": 65
        }
      ]
    },
    {
      "cell_type": "code",
      "metadata": {
        "id": "y6CMw8QFqbNn"
      },
      "source": [
        "#SEPARAR EN DOS DATAFRAMES EL DATASET \n",
        "dataset_unaffiliate = dataset[dataset['SUBSCRIPTION_FLAG'] == 0]\n",
        "dataset_affiliate = dataset[dataset['SUBSCRIPTION_FLAG'] == 1]"
      ],
      "execution_count": 66,
      "outputs": []
    },
    {
      "cell_type": "markdown",
      "metadata": {
        "id": "P2TIJ6tNX_0j"
      },
      "source": [
        "Sampling aleatorio de los datos, de manera que se tenga la misma cantidad de afiliados y no afiliados."
      ]
    },
    {
      "cell_type": "code",
      "metadata": {
        "id": "1-A5bQPVsQzm"
      },
      "source": [
        "#APLICANDO SOBRE-MUESTREO A LOS DATOS\n",
        "dataset_affiliate_over = dataset_affiliate.sample(count_unaffiliate, replace=True) #NUEVO DATAFRAME DE \"AFILIADOS\" BASADO EN UNA MUESTRA DEL DATAFRAME DE \"AFILIADO\" DEL TAMAÑO DE LOS \"NO AFILIADOS\"\n",
        "\n",
        "df_test_over = pd.concat([dataset_unaffiliate, dataset_affiliate_over], axis=0) #CONCATENANDO EL DATAFRAME \"NO AFILIADO\" CON EL NUEVO DATAFRAME \"AFILIADOS\" DEL SOBREMUESTREO"
      ],
      "execution_count": 67,
      "outputs": []
    },
    {
      "cell_type": "markdown",
      "metadata": {
        "id": "LKl8KYMkYPWE"
      },
      "source": [
        "Número de afiliados y no afiliados, balanceados."
      ]
    },
    {
      "cell_type": "code",
      "metadata": {
        "colab": {
          "base_uri": "https://localhost:8080/"
        },
        "id": "VA1dhA7IYMoE",
        "outputId": "06951f90-ddb8-4a9f-86b4-767174c81b65"
      },
      "source": [
        "df_test_over.groupby('SUBSCRIPTION_FLAG').size() #EL TAMAÑO DEL DATASET QUEDA BALANCEADO AL NÚMERO DE \"NO AFILIADOS\""
      ],
      "execution_count": 68,
      "outputs": [
        {
          "output_type": "execute_result",
          "data": {
            "text/plain": [
              "SUBSCRIPTION_FLAG\n",
              "0.0    40\n",
              "1.0    40\n",
              "dtype: int64"
            ]
          },
          "metadata": {
            "tags": []
          },
          "execution_count": 68
        }
      ]
    },
    {
      "cell_type": "markdown",
      "metadata": {
        "id": "8ZcrSOXvU_t6"
      },
      "source": [
        "# DATOS DE ENTRENAMIENTO Y TESTING\n",
        "- Subdivisiones del dataset balanceado: Conjunto de entrenamiento (train) y conjunto de pruebas (test).\n",
        "- Para entrenar nuestro modelo de Machine Learning y poder saber si está funcionando bien.\n",
        "- Por cada dato de test deberian haber cuatro datos de train: 20% test.\n"
      ]
    },
    {
      "cell_type": "code",
      "metadata": {
        "id": "NhuJDO1xrUNJ"
      },
      "source": [
        "from sklearn.model_selection import train_test_split \n",
        "columns = df_test_over.columns.tolist() #COLUMNAS DE DATASET CONVERTIDAS EN UNA LISTA\n",
        "columns = [x for x in columns if x not in [\"SUBSCRIPTION_FLAG\"]]  #DEFINIENDO UNA LIST COMPREHENSION\n",
        "\n",
        "X = df_test_over[columns] #VARIABLES REGRESORAS\n",
        "Y = pd.DataFrame(df_test_over['SUBSCRIPTION_FLAG'])\n",
        "\n",
        "X_train, X_test, y_train, y_test = train_test_split(X,Y,\n",
        "                                                    test_size=.2, #PORCENTAJE PARA TESTING\n",
        "                                                    random_state=22) #FIJAR SEMILLA PARA OBTENER EL MISMO RESULTADO AL VOLVER A EJECUTAR"
      ],
      "execution_count": 69,
      "outputs": []
    },
    {
      "cell_type": "markdown",
      "metadata": {
        "id": "uGi2syNSVfCA"
      },
      "source": [
        "# NORMALIZACIÓN DE DATOS\n",
        "## ¿POR QUÉ APLICAMOS ESTE ESCALONAMIENTO?\n",
        "El algoritmo de red neuronal típico requiere datos que en una escala [0, 1]. Una desventaja de la normalización es que pierde cierta información en los datos, especialmente sobre los valores atípicos"
      ]
    },
    {
      "cell_type": "code",
      "metadata": {
        "id": "Kersd3PwaFr7"
      },
      "source": [
        "from sklearn.preprocessing import MinMaxScaler #POR DEFECTO USA VALORES ENTRE 0-1\n",
        "scaler_n = MinMaxScaler()\n",
        "\n",
        "X_train_n = pd.DataFrame(scaler_n.fit_transform(X_train), columns=X_train.columns)\n",
        "y_train_n = pd.DataFrame(scaler_n.fit_transform(y_train), columns=y_train.columns)"
      ],
      "execution_count": 70,
      "outputs": []
    },
    {
      "cell_type": "markdown",
      "metadata": {
        "id": "RtzQoHboTlIr"
      },
      "source": [
        "# IDENTIFICAR RANGO MÍNIMO Y MÁXIMO EN DATAFRAME'S DE ENTRENAMIENTO\n",
        "Se comproba el rango en 0-1 para los datos de entrenamiento, se puede decir que, los datos de entrenamiento están balanceados y normalizados."
      ]
    },
    {
      "cell_type": "code",
      "metadata": {
        "id": "Y-HFTlbzaoCP",
        "colab": {
          "base_uri": "https://localhost:8080/"
        },
        "outputId": "171bc138-5d8a-45b2-e863-0a669c78308e"
      },
      "source": [
        "print('Mínimos valores en X_train_n - Dataframe normalizado')\n",
        "print('*'*55)\n",
        "print(X_train_n.min())\n",
        "print('Máximos valores en X_train_n - Dataframe normalizado')\n",
        "print('*'*55)\n",
        "print(X_train_n.max())\n",
        "print('*'*55)\n",
        "print('Mínimos valores en y_train_n - Dataframe normalizado')\n",
        "print('*'*55)\n",
        "print(y_train_n.min())\n",
        "print('Máximos valores en y_train_n - Dataframe normalizado')\n",
        "print('*'*55)\n",
        "print(y_train_n.max())"
      ],
      "execution_count": 71,
      "outputs": [
        {
          "output_type": "stream",
          "text": [
            "Mínimos valores en X_train_n - Dataframe normalizado\n",
            "*******************************************************\n",
            "N_ACTIVE_LINES        0.0\n",
            "N_SUSPENDED_LINES     0.0\n",
            "DEBT_CAPACITY         0.0\n",
            "AGE                   0.0\n",
            "INCOME                0.0\n",
            "OLDEST_LINE_MONTHS    0.0\n",
            "SAME_BILLING_3M       0.0\n",
            "DIGITAL_BILL          0.0\n",
            "MB_3G_USE             0.0\n",
            "MB_4G_USE             0.0\n",
            "VOICE_IN_3M           0.0\n",
            "VOICE_OUT_3M          0.0\n",
            "dtype: float64\n",
            "Máximos valores en X_train_n - Dataframe normalizado\n",
            "*******************************************************\n",
            "N_ACTIVE_LINES        1.0\n",
            "N_SUSPENDED_LINES     1.0\n",
            "DEBT_CAPACITY         1.0\n",
            "AGE                   1.0\n",
            "INCOME                1.0\n",
            "OLDEST_LINE_MONTHS    1.0\n",
            "SAME_BILLING_3M       1.0\n",
            "DIGITAL_BILL          1.0\n",
            "MB_3G_USE             1.0\n",
            "MB_4G_USE             1.0\n",
            "VOICE_IN_3M           1.0\n",
            "VOICE_OUT_3M          1.0\n",
            "dtype: float64\n",
            "*******************************************************\n",
            "Mínimos valores en y_train_n - Dataframe normalizado\n",
            "*******************************************************\n",
            "SUBSCRIPTION_FLAG    0.0\n",
            "dtype: float64\n",
            "Máximos valores en y_train_n - Dataframe normalizado\n",
            "*******************************************************\n",
            "SUBSCRIPTION_FLAG    1.0\n",
            "dtype: float64\n"
          ],
          "name": "stdout"
        }
      ]
    },
    {
      "cell_type": "markdown",
      "metadata": {
        "id": "GHGJQycDeJpn"
      },
      "source": [
        "# ESTANDARIZACIÓN DE DATOS\n",
        "El proceso se aplica para centrar los datos, donde la media de los valores observados es 0.\n",
        "Útil para transformar atributos con una distribución gaussiana (o normal) y diferentes medias y desviaciones estándar a una distribución gaussiana estándar con una media de 0 (valores simétricos respecto a la media) y una desviación estándar de 1."
      ]
    },
    {
      "cell_type": "code",
      "metadata": {
        "colab": {
          "base_uri": "https://localhost:8080/"
        },
        "id": "O5Rh4m3fTRsV",
        "outputId": "3d731aab-61d1-4941-b528-de9281feaee0"
      },
      "source": [
        "from sklearn.preprocessing import StandardScaler\n",
        "scaler_s = StandardScaler()\n",
        "X_train_s = pd.DataFrame(scaler_s.fit_transform(X_train), columns=X_train.columns)\n",
        "y_train_s = pd.DataFrame(scaler_s.fit_transform(y_train), columns=y_train.columns)"
      ],
      "execution_count": 73,
      "outputs": [
        {
          "output_type": "stream",
          "text": [
            "    N_ACTIVE_LINES  N_SUSPENDED_LINES  ...  VOICE_IN_3M  VOICE_OUT_3M\n",
            "0        -0.059028          -0.350438  ...    -0.333942     -0.477202\n",
            "1        -0.059028          -0.350438  ...    -0.413569     -0.441977\n",
            "2        -0.059028          -0.350438  ...    -0.413460     -0.576575\n",
            "3        -0.059028          -0.350438  ...    -0.384623     -0.491113\n",
            "4        -0.059028          -0.350438  ...     0.009487      0.358830\n",
            "..             ...                ...  ...          ...           ...\n",
            "59       -0.059028          -0.350438  ...    -0.024355      0.060512\n",
            "60       -0.059028          -0.350438  ...    -0.286796      0.352359\n",
            "61       -0.059028          -0.350438  ...    -0.484247     -0.703860\n",
            "62       -0.059028          -0.350438  ...     0.184575      0.463204\n",
            "63        1.829872          -0.350438  ...    -0.299066      1.203788\n",
            "\n",
            "[64 rows x 12 columns]\n"
          ],
          "name": "stdout"
        }
      ]
    }
  ]
}