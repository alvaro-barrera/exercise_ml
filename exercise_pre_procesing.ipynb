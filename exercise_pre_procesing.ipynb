{
  "nbformat": 4,
  "nbformat_minor": 0,
  "metadata": {
    "colab": {
      "name": "exercise_pre_procesing.ipynb",
      "provenance": [],
      "authorship_tag": "ABX9TyOiSfweRvddfhwrxrzOAg4s",
      "include_colab_link": true
    },
    "kernelspec": {
      "name": "python3",
      "display_name": "Python 3"
    },
    "language_info": {
      "name": "python"
    }
  },
  "cells": [
    {
      "cell_type": "markdown",
      "metadata": {
        "id": "view-in-github",
        "colab_type": "text"
      },
      "source": [
        "<a href=\"https://colab.research.google.com/github/whitehatdevelop/exercise_ml/blob/master/exercise_pre_procesing.ipynb\" target=\"_parent\"><img src=\"https://colab.research.google.com/assets/colab-badge.svg\" alt=\"Open In Colab\"/></a>"
      ]
    },
    {
      "cell_type": "code",
      "metadata": {
        "colab": {
          "base_uri": "https://localhost:8080/"
        },
        "id": "GoDPQpXSI11-",
        "outputId": "c1e7aded-6013-4ee4-f366-bab80aab8373"
      },
      "source": [
        "#CONEXIÓN A DRIVE\n",
        "from google.colab import drive\n",
        "drive.mount('/content/drive')"
      ],
      "execution_count": null,
      "outputs": [
        {
          "output_type": "stream",
          "text": [
            "Drive already mounted at /content/drive; to attempt to forcibly remount, call drive.mount(\"/content/drive\", force_remount=True).\n"
          ],
          "name": "stdout"
        }
      ]
    },
    {
      "cell_type": "code",
      "metadata": {
        "colab": {
          "base_uri": "https://localhost:8080/"
        },
        "id": "VQK4Ur6cI_Ax",
        "outputId": "fbb801d3-a0cb-423c-f0b7-d6123c1ce0da"
      },
      "source": [
        "#INGRESANDO A CARPETA CONTENEDORA DE ARCHIVOS EN DRIVE \"ml_database\"\n",
        "%cd '/content/drive/My Drive/Colab Notebooks/ml_database'"
      ],
      "execution_count": null,
      "outputs": [
        {
          "output_type": "stream",
          "text": [
            "/content/drive/My Drive/Colab Notebooks/ml_database\n"
          ],
          "name": "stdout"
        }
      ]
    },
    {
      "cell_type": "code",
      "metadata": {
        "id": "6x0AwHiwJsvl"
      },
      "source": [
        "#IMPORTACIÓN DE LIBRERÍAS\n",
        "import pandas as pd #IMPORTACIÓN DE LIBRERIA - PANDAS\n",
        "import numpy as np\n",
        "\n",
        "import seaborn as sn #IMPORTACIÓN DE LIBRERIA - SEABORN\n",
        "import matplotlib.pyplot as plt #IMPORTACIÓN DE LIBRERIA - MATPLOT\n",
        "\n",
        "%matplotlib inline"
      ],
      "execution_count": null,
      "outputs": []
    },
    {
      "cell_type": "code",
      "metadata": {
        "id": "XlN2qE68JzIb"
      },
      "source": [
        "#CARGA DE ARCHIVO .CSV \n",
        "dataset = pd.read_csv('Dataset_AfiliacionDebitoAutom.csv',\n",
        "                      sep=',', #DEFINIENDO SEPARADOR ',' PROPIO DE .CSV\n",
        "                      encoding='utf-8', #CODIFICACIÓN UTF-8\n",
        "                      na_values=' ')"
      ],
      "execution_count": null,
      "outputs": []
    },
    {
      "cell_type": "code",
      "metadata": {
        "colab": {
          "base_uri": "https://localhost:8080/"
        },
        "id": "UEWg5TyhKAZO",
        "outputId": "0a474459-7bfe-458e-fe94-3595802e8a1b"
      },
      "source": [
        "#VISUALIZACIÓN DE ENCABEZADOS DE LAS COLUMNAS DEL DATAFRAME COMO UNA LISTA\n",
        "dataset.columns.values.tolist()"
      ],
      "execution_count": null,
      "outputs": [
        {
          "output_type": "execute_result",
          "data": {
            "text/plain": [
              "['N_ACTIVE_LINES',\n",
              " 'N_SUSPENDED_LINES',\n",
              " 'DEBT_CAPACITY',\n",
              " 'AGE',\n",
              " 'INCOME',\n",
              " 'OLDEST_LINE_MONTHS',\n",
              " 'SAME_BILLING_3M',\n",
              " 'DIGITAL_BILL',\n",
              " 'MB_3G_USE',\n",
              " 'MB_4G_USE',\n",
              " 'VOICE_IN_3M',\n",
              " 'VOICE_OUT_3M',\n",
              " 'SUBSCRIPTION_FLAG']"
            ]
          },
          "metadata": {
            "tags": []
          },
          "execution_count": 9
        }
      ]
    },
    {
      "cell_type": "code",
      "metadata": {
        "colab": {
          "base_uri": "https://localhost:8080/",
          "height": 224
        },
        "id": "kVmQ9aS1Kctj",
        "outputId": "d1637d71-1e5e-4910-8197-0e53011ac6bd"
      },
      "source": [
        "#VISUALIZACIÓN DE LOS 5 PRIMEROS DATOS DEL DATAFRAME\n",
        "dataset.head(5)  "
      ],
      "execution_count": null,
      "outputs": [
        {
          "output_type": "execute_result",
          "data": {
            "text/html": [
              "<div>\n",
              "<style scoped>\n",
              "    .dataframe tbody tr th:only-of-type {\n",
              "        vertical-align: middle;\n",
              "    }\n",
              "\n",
              "    .dataframe tbody tr th {\n",
              "        vertical-align: top;\n",
              "    }\n",
              "\n",
              "    .dataframe thead th {\n",
              "        text-align: right;\n",
              "    }\n",
              "</style>\n",
              "<table border=\"1\" class=\"dataframe\">\n",
              "  <thead>\n",
              "    <tr style=\"text-align: right;\">\n",
              "      <th></th>\n",
              "      <th>N_ACTIVE_LINES</th>\n",
              "      <th>N_SUSPENDED_LINES</th>\n",
              "      <th>DEBT_CAPACITY</th>\n",
              "      <th>AGE</th>\n",
              "      <th>INCOME</th>\n",
              "      <th>OLDEST_LINE_MONTHS</th>\n",
              "      <th>SAME_BILLING_3M</th>\n",
              "      <th>DIGITAL_BILL</th>\n",
              "      <th>MB_3G_USE</th>\n",
              "      <th>MB_4G_USE</th>\n",
              "      <th>VOICE_IN_3M</th>\n",
              "      <th>VOICE_OUT_3M</th>\n",
              "      <th>SUBSCRIPTION_FLAG</th>\n",
              "    </tr>\n",
              "  </thead>\n",
              "  <tbody>\n",
              "    <tr>\n",
              "      <th>0</th>\n",
              "      <td>2</td>\n",
              "      <td>0</td>\n",
              "      <td>570</td>\n",
              "      <td>35.0</td>\n",
              "      <td>173.699997</td>\n",
              "      <td>27</td>\n",
              "      <td>1</td>\n",
              "      <td>1</td>\n",
              "      <td>0.0</td>\n",
              "      <td>0.0</td>\n",
              "      <td>0.7999</td>\n",
              "      <td>0.7999</td>\n",
              "      <td>0.0</td>\n",
              "    </tr>\n",
              "    <tr>\n",
              "      <th>1</th>\n",
              "      <td>1</td>\n",
              "      <td>0</td>\n",
              "      <td>80</td>\n",
              "      <td>39.0</td>\n",
              "      <td>79.000056</td>\n",
              "      <td>12</td>\n",
              "      <td>0</td>\n",
              "      <td>1</td>\n",
              "      <td>0.0</td>\n",
              "      <td>0.0</td>\n",
              "      <td>0.0000</td>\n",
              "      <td>0.0000</td>\n",
              "      <td>0.0</td>\n",
              "    </tr>\n",
              "    <tr>\n",
              "      <th>2</th>\n",
              "      <td>1</td>\n",
              "      <td>0</td>\n",
              "      <td>120</td>\n",
              "      <td>35.0</td>\n",
              "      <td>29.900001</td>\n",
              "      <td>5</td>\n",
              "      <td>1</td>\n",
              "      <td>1</td>\n",
              "      <td>4.9</td>\n",
              "      <td>2077.8</td>\n",
              "      <td>60.5667</td>\n",
              "      <td>81.6664</td>\n",
              "      <td>0.0</td>\n",
              "    </tr>\n",
              "    <tr>\n",
              "      <th>3</th>\n",
              "      <td>0</td>\n",
              "      <td>1</td>\n",
              "      <td>0</td>\n",
              "      <td>34.0</td>\n",
              "      <td>62.900000</td>\n",
              "      <td>14</td>\n",
              "      <td>1</td>\n",
              "      <td>1</td>\n",
              "      <td>9.8</td>\n",
              "      <td>17.9</td>\n",
              "      <td>101.5669</td>\n",
              "      <td>418.7003</td>\n",
              "      <td>1.0</td>\n",
              "    </tr>\n",
              "    <tr>\n",
              "      <th>4</th>\n",
              "      <td>1</td>\n",
              "      <td>0</td>\n",
              "      <td>186</td>\n",
              "      <td>35.0</td>\n",
              "      <td>65.899460</td>\n",
              "      <td>39</td>\n",
              "      <td>0</td>\n",
              "      <td>1</td>\n",
              "      <td>50.3</td>\n",
              "      <td>9547.0</td>\n",
              "      <td>260.8001</td>\n",
              "      <td>917.3007</td>\n",
              "      <td>1.0</td>\n",
              "    </tr>\n",
              "  </tbody>\n",
              "</table>\n",
              "</div>"
            ],
            "text/plain": [
              "   N_ACTIVE_LINES  N_SUSPENDED_LINES  ...  VOICE_OUT_3M  SUBSCRIPTION_FLAG\n",
              "0               2                  0  ...        0.7999                0.0\n",
              "1               1                  0  ...        0.0000                0.0\n",
              "2               1                  0  ...       81.6664                0.0\n",
              "3               0                  1  ...      418.7003                1.0\n",
              "4               1                  0  ...      917.3007                1.0\n",
              "\n",
              "[5 rows x 13 columns]"
            ]
          },
          "metadata": {
            "tags": []
          },
          "execution_count": 27
        }
      ]
    },
    {
      "cell_type": "code",
      "metadata": {
        "colab": {
          "base_uri": "https://localhost:8080/",
          "height": 317
        },
        "id": "KrVL6V9GKlE0",
        "outputId": "dc4c6f44-3a01-4385-ff89-15c3078e502b"
      },
      "source": [
        "#VISUALIZACIÓN DE DATOS ESTADÍSTICOS DEL DATAFRAME\n",
        "dataset.describe()"
      ],
      "execution_count": null,
      "outputs": [
        {
          "output_type": "execute_result",
          "data": {
            "text/html": [
              "<div>\n",
              "<style scoped>\n",
              "    .dataframe tbody tr th:only-of-type {\n",
              "        vertical-align: middle;\n",
              "    }\n",
              "\n",
              "    .dataframe tbody tr th {\n",
              "        vertical-align: top;\n",
              "    }\n",
              "\n",
              "    .dataframe thead th {\n",
              "        text-align: right;\n",
              "    }\n",
              "</style>\n",
              "<table border=\"1\" class=\"dataframe\">\n",
              "  <thead>\n",
              "    <tr style=\"text-align: right;\">\n",
              "      <th></th>\n",
              "      <th>N_ACTIVE_LINES</th>\n",
              "      <th>N_SUSPENDED_LINES</th>\n",
              "      <th>DEBT_CAPACITY</th>\n",
              "      <th>AGE</th>\n",
              "      <th>INCOME</th>\n",
              "      <th>OLDEST_LINE_MONTHS</th>\n",
              "      <th>SAME_BILLING_3M</th>\n",
              "      <th>DIGITAL_BILL</th>\n",
              "      <th>MB_3G_USE</th>\n",
              "      <th>MB_4G_USE</th>\n",
              "      <th>VOICE_IN_3M</th>\n",
              "      <th>VOICE_OUT_3M</th>\n",
              "      <th>SUBSCRIPTION_FLAG</th>\n",
              "    </tr>\n",
              "  </thead>\n",
              "  <tbody>\n",
              "    <tr>\n",
              "      <th>count</th>\n",
              "      <td>101.000000</td>\n",
              "      <td>101.000000</td>\n",
              "      <td>101.000000</td>\n",
              "      <td>95.000000</td>\n",
              "      <td>101.000000</td>\n",
              "      <td>101.000000</td>\n",
              "      <td>101.000000</td>\n",
              "      <td>101.000000</td>\n",
              "      <td>101.000000</td>\n",
              "      <td>101.000000</td>\n",
              "      <td>99.000000</td>\n",
              "      <td>101.000000</td>\n",
              "      <td>100.000000</td>\n",
              "    </tr>\n",
              "    <tr>\n",
              "      <th>mean</th>\n",
              "      <td>1.059406</td>\n",
              "      <td>0.138614</td>\n",
              "      <td>172.861386</td>\n",
              "      <td>36.463158</td>\n",
              "      <td>68.047274</td>\n",
              "      <td>17.237624</td>\n",
              "      <td>0.633663</td>\n",
              "      <td>0.801980</td>\n",
              "      <td>731.056436</td>\n",
              "      <td>7166.463366</td>\n",
              "      <td>252.033448</td>\n",
              "      <td>620.201870</td>\n",
              "      <td>0.600000</td>\n",
              "    </tr>\n",
              "    <tr>\n",
              "      <th>std</th>\n",
              "      <td>0.580031</td>\n",
              "      <td>0.374959</td>\n",
              "      <td>126.132948</td>\n",
              "      <td>9.120716</td>\n",
              "      <td>43.298222</td>\n",
              "      <td>15.643624</td>\n",
              "      <td>0.484206</td>\n",
              "      <td>0.400495</td>\n",
              "      <td>1781.948329</td>\n",
              "      <td>10819.287102</td>\n",
              "      <td>476.432244</td>\n",
              "      <td>724.473191</td>\n",
              "      <td>0.492366</td>\n",
              "    </tr>\n",
              "    <tr>\n",
              "      <th>min</th>\n",
              "      <td>0.000000</td>\n",
              "      <td>0.000000</td>\n",
              "      <td>0.000000</td>\n",
              "      <td>24.000000</td>\n",
              "      <td>18.978000</td>\n",
              "      <td>2.000000</td>\n",
              "      <td>0.000000</td>\n",
              "      <td>0.000000</td>\n",
              "      <td>0.000000</td>\n",
              "      <td>0.000000</td>\n",
              "      <td>0.000000</td>\n",
              "      <td>0.000000</td>\n",
              "      <td>0.000000</td>\n",
              "    </tr>\n",
              "    <tr>\n",
              "      <th>25%</th>\n",
              "      <td>1.000000</td>\n",
              "      <td>0.000000</td>\n",
              "      <td>90.000000</td>\n",
              "      <td>28.000000</td>\n",
              "      <td>41.900002</td>\n",
              "      <td>6.000000</td>\n",
              "      <td>0.000000</td>\n",
              "      <td>1.000000</td>\n",
              "      <td>21.100000</td>\n",
              "      <td>377.200000</td>\n",
              "      <td>48.491850</td>\n",
              "      <td>154.900000</td>\n",
              "      <td>0.000000</td>\n",
              "    </tr>\n",
              "    <tr>\n",
              "      <th>50%</th>\n",
              "      <td>1.000000</td>\n",
              "      <td>0.000000</td>\n",
              "      <td>160.000000</td>\n",
              "      <td>35.000000</td>\n",
              "      <td>62.900000</td>\n",
              "      <td>11.000000</td>\n",
              "      <td>1.000000</td>\n",
              "      <td>1.000000</td>\n",
              "      <td>167.800000</td>\n",
              "      <td>3389.500000</td>\n",
              "      <td>121.950200</td>\n",
              "      <td>418.700300</td>\n",
              "      <td>1.000000</td>\n",
              "    </tr>\n",
              "    <tr>\n",
              "      <th>75%</th>\n",
              "      <td>1.000000</td>\n",
              "      <td>0.000000</td>\n",
              "      <td>220.000000</td>\n",
              "      <td>43.000000</td>\n",
              "      <td>79.000056</td>\n",
              "      <td>26.000000</td>\n",
              "      <td>1.000000</td>\n",
              "      <td>1.000000</td>\n",
              "      <td>604.600000</td>\n",
              "      <td>9061.300000</td>\n",
              "      <td>306.091850</td>\n",
              "      <td>871.984500</td>\n",
              "      <td>1.000000</td>\n",
              "    </tr>\n",
              "    <tr>\n",
              "      <th>max</th>\n",
              "      <td>3.000000</td>\n",
              "      <td>2.000000</td>\n",
              "      <td>570.000000</td>\n",
              "      <td>57.000000</td>\n",
              "      <td>309.599459</td>\n",
              "      <td>80.000000</td>\n",
              "      <td>1.000000</td>\n",
              "      <td>1.000000</td>\n",
              "      <td>14734.000000</td>\n",
              "      <td>56071.000000</td>\n",
              "      <td>4296.182900</td>\n",
              "      <td>5014.400300</td>\n",
              "      <td>1.000000</td>\n",
              "    </tr>\n",
              "  </tbody>\n",
              "</table>\n",
              "</div>"
            ],
            "text/plain": [
              "       N_ACTIVE_LINES  N_SUSPENDED_LINES  ...  VOICE_OUT_3M  SUBSCRIPTION_FLAG\n",
              "count      101.000000         101.000000  ...    101.000000         100.000000\n",
              "mean         1.059406           0.138614  ...    620.201870           0.600000\n",
              "std          0.580031           0.374959  ...    724.473191           0.492366\n",
              "min          0.000000           0.000000  ...      0.000000           0.000000\n",
              "25%          1.000000           0.000000  ...    154.900000           0.000000\n",
              "50%          1.000000           0.000000  ...    418.700300           1.000000\n",
              "75%          1.000000           0.000000  ...    871.984500           1.000000\n",
              "max          3.000000           2.000000  ...   5014.400300           1.000000\n",
              "\n",
              "[8 rows x 13 columns]"
            ]
          },
          "metadata": {
            "tags": []
          },
          "execution_count": 11
        }
      ]
    },
    {
      "cell_type": "code",
      "metadata": {
        "colab": {
          "base_uri": "https://localhost:8080/"
        },
        "id": "kHUlLvRCLgx7",
        "outputId": "2c7faccc-8940-436b-b473-8c69e9e6edfa"
      },
      "source": [
        "#VERIFICANDO EL NÚMERO DE DATOS NULLABLES POR COLUMNA\n",
        "dataset.isnull().sum(axis=0)"
      ],
      "execution_count": null,
      "outputs": [
        {
          "output_type": "execute_result",
          "data": {
            "text/plain": [
              "N_ACTIVE_LINES        0\n",
              "N_SUSPENDED_LINES     0\n",
              "DEBT_CAPACITY         0\n",
              "AGE                   6\n",
              "INCOME                0\n",
              "OLDEST_LINE_MONTHS    0\n",
              "SAME_BILLING_3M       0\n",
              "DIGITAL_BILL          0\n",
              "MB_3G_USE             0\n",
              "MB_4G_USE             0\n",
              "VOICE_IN_3M           2\n",
              "VOICE_OUT_3M          0\n",
              "SUBSCRIPTION_FLAG     1\n",
              "dtype: int64"
            ]
          },
          "metadata": {
            "tags": []
          },
          "execution_count": 12
        }
      ]
    },
    {
      "cell_type": "code",
      "metadata": {
        "id": "0H9F0PoALnX9"
      },
      "source": [
        "#INSERTANDO MEDIANA EN VALORES NULLABLES\n",
        "dataset = dataset.fillna({'AGE':dataset['AGE'].median()}) #REEMPLAZANDO DENTRO DE COLUMNA 'AGE'\n",
        "dataset = dataset.fillna({'VOICE_IN_3M':dataset['VOICE_IN_3M'].median()}) #REEMPLAZANDO DENTRO DE COLUMNA 'VOICE_IN_3M'\n",
        "dataset = dataset.fillna({'SUBSCRIPTION_FLAG':dataset['SUBSCRIPTION_FLAG'].median()}) #REEMPLAZANDO DENTRO DE COLUMNA 'SUBSCRIPTION_FLAG'"
      ],
      "execution_count": null,
      "outputs": []
    },
    {
      "cell_type": "code",
      "metadata": {
        "colab": {
          "base_uri": "https://localhost:8080/"
        },
        "id": "8uYYM8OTMQOq",
        "outputId": "da69432b-4df1-4d51-8274-2c22ae29cbdb"
      },
      "source": [
        "#VERIFICANDO QUE EL NÚMERO DE DATOS NULLABLES POR COLUMNA AHORA SEAN 0\n",
        "dataset.isnull().sum(axis=0)"
      ],
      "execution_count": null,
      "outputs": [
        {
          "output_type": "execute_result",
          "data": {
            "text/plain": [
              "N_ACTIVE_LINES        0\n",
              "N_SUSPENDED_LINES     0\n",
              "DEBT_CAPACITY         0\n",
              "AGE                   0\n",
              "INCOME                0\n",
              "OLDEST_LINE_MONTHS    0\n",
              "SAME_BILLING_3M       0\n",
              "DIGITAL_BILL          0\n",
              "MB_3G_USE             0\n",
              "MB_4G_USE             0\n",
              "VOICE_IN_3M           0\n",
              "VOICE_OUT_3M          0\n",
              "SUBSCRIPTION_FLAG     0\n",
              "dtype: int64"
            ]
          },
          "metadata": {
            "tags": []
          },
          "execution_count": 24
        }
      ]
    },
    {
      "cell_type": "code",
      "metadata": {
        "colab": {
          "base_uri": "https://localhost:8080/"
        },
        "id": "yVZBdgDJMRl9",
        "outputId": "326c6edb-b14a-438c-d062-521141da8c60"
      },
      "source": [
        "#CONTEO DE DATOS EN VARIABLE OBJETIVO 'SUBSCRIPTION_FLAG'\n",
        "dataset.SUBSCRIPTION_FLAG.value_counts() #dataset.groupby('SUBSCRIPTION_FLAG').size()"
      ],
      "execution_count": null,
      "outputs": [
        {
          "output_type": "execute_result",
          "data": {
            "text/plain": [
              "1.0    61\n",
              "0.0    40\n",
              "Name: SUBSCRIPTION_FLAG, dtype: int64"
            ]
          },
          "metadata": {
            "tags": []
          },
          "execution_count": 25
        }
      ]
    },
    {
      "cell_type": "code",
      "metadata": {
        "id": "niUgiW40j5yw"
      },
      "source": [
        "from sklearn.model_selection import train_test_split \n",
        "columns = dataset.columns.tolist() #COLUMNAS DE DATASET CONVERTIDAS EN UNA LISTA\n",
        "columns = [x for x in columns if x not in [\"SUBSCRIPTION_FLAG\"]]  #DEFINIENDO UNA LIST COMPREHENSION\n",
        "\n",
        "X = dataset[columns] #VARIABLES REGRESORAS\n",
        "Y = dataset['SUBSCRIPTION_FLAG'] #VARIABLE RESPUESTA\n",
        "X_train, X_test, y_train, y_test = train_test_split(X,Y,\n",
        "                                                    test_size=.3, #PORCENTAJE PARA TESTING\n",
        "                                                    random_state=22) #FIJAR SEMILLA PARA OBTENER EL MISMO RESULTADO AL VOLVER A EJECUTAR"
      ],
      "execution_count": null,
      "outputs": []
    },
    {
      "cell_type": "code",
      "metadata": {
        "colab": {
          "base_uri": "https://localhost:8080/"
        },
        "id": "NfpDz4suMttN",
        "outputId": "dd256c6f-1961-4ef1-dfd6-9e2a45922836"
      },
      "source": [
        "target = dataset['SUBSCRIPTION_FLAG']\n",
        "target"
      ],
      "execution_count": null,
      "outputs": [
        {
          "output_type": "execute_result",
          "data": {
            "text/plain": [
              "0      0.0\n",
              "1      0.0\n",
              "2      0.0\n",
              "3      1.0\n",
              "4      1.0\n",
              "      ... \n",
              "96     1.0\n",
              "97     1.0\n",
              "98     1.0\n",
              "99     1.0\n",
              "100    1.0\n",
              "Name: SUBSCRIPTION_FLAG, Length: 101, dtype: float64"
            ]
          },
          "metadata": {
            "tags": []
          },
          "execution_count": 32
        }
      ]
    },
    {
      "cell_type": "code",
      "metadata": {
        "colab": {
          "base_uri": "https://localhost:8080/"
        },
        "id": "wXSSyiCCfV0t",
        "outputId": "c7a7a1b0-39e0-4a93-b4a8-f1a836340363"
      },
      "source": [
        "dataset.SUBSCRIPTION_FLAG.value_counts() #VISUALIZANDO CANTIDAD DENTRO DE SUBSCRIPTION_FLAG AGRUPADAS POR LOS VALORES PERTENECIENTES A LA COLUMNA"
      ],
      "execution_count": null,
      "outputs": [
        {
          "output_type": "execute_result",
          "data": {
            "text/plain": [
              "1.0    61\n",
              "0.0    40\n",
              "Name: SUBSCRIPTION_FLAG, dtype: int64"
            ]
          },
          "metadata": {
            "tags": []
          },
          "execution_count": 45
        }
      ]
    },
    {
      "cell_type": "code",
      "metadata": {
        "colab": {
          "base_uri": "https://localhost:8080/"
        },
        "id": "gfQ0tW61itB-",
        "outputId": "5c4d281c-9282-4735-becc-b18c9db62840"
      },
      "source": [
        "target_count = dataset.SUBSCRIPTION_FLAG.value_counts() #CONTEO DE SUBSCRIPTION_FLAG 0 | 1\n",
        "count_unaffiliate = target_count[0] #CANTIDAD DE \"NO AFILIADOS\"\n",
        "count_affiliate = target_count[1] #CANTIDAD DE \"NO AFILIADOS\"\n",
        "\n",
        "count_affiliate,count_unaffiliate #VISUALIZANDO CANTIDADES"
      ],
      "execution_count": null,
      "outputs": [
        {
          "output_type": "execute_result",
          "data": {
            "text/plain": [
              "(61, 40)"
            ]
          },
          "metadata": {
            "tags": []
          },
          "execution_count": 139
        }
      ]
    },
    {
      "cell_type": "code",
      "metadata": {
        "id": "y6CMw8QFqbNn"
      },
      "source": [
        "#SEPARAR EN DOS DATAFRAMES EL DATASET \n",
        "dataset_unaffiliate = dataset[dataset['SUBSCRIPTION_FLAG'] == 0]\n",
        "dataset_affiliate = dataset[dataset['SUBSCRIPTION_FLAG'] == 1]"
      ],
      "execution_count": null,
      "outputs": []
    },
    {
      "cell_type": "code",
      "metadata": {
        "colab": {
          "base_uri": "https://localhost:8080/"
        },
        "id": "1-A5bQPVsQzm",
        "outputId": "b64a8a45-db2b-48ca-9890-b6bdf8e72668"
      },
      "source": [
        "#APLICANDO SOBRE-MUESTREO A LOS DATOS\n",
        "dataset_affiliate_over = dataset_affiliate.sample(count_unaffiliate, replace=True) #NUEVO DATAFRAME DE \"AFILIADOS\" BASADO EN UNA MUESTRA DEL DATAFRAME DE \"AFILIADO\" DEL TAMAÑO DE LOS \"NO AFILIADOS\"\n",
        "\n",
        "df_test_over = pd.concat([dataset_unaffiliate, dataset_affiliate_over], axis=0) #CONCATENANDO EL DATAFRAME \"NO AFILIADO\" CON EL NUEVO DATAFRAME \"AFILIADOS\" DEL SOBREMUESTREO\n",
        "df_test_over.groupby('SUBSCRIPTION_FLAG').size() #EL TAMAÑO DEL DATASET QUEDA BALANCEADO AL NÚMERO DE \"NO AFILIADOS\""
      ],
      "execution_count": null,
      "outputs": [
        {
          "output_type": "execute_result",
          "data": {
            "text/plain": [
              "SUBSCRIPTION_FLAG\n",
              "0.0    40\n",
              "1.0    40\n",
              "dtype: int64"
            ]
          },
          "metadata": {
            "tags": []
          },
          "execution_count": 141
        }
      ]
    },
    {
      "cell_type": "code",
      "metadata": {
        "id": "NhuJDO1xrUNJ"
      },
      "source": [
        ""
      ],
      "execution_count": null,
      "outputs": []
    }
  ]
}